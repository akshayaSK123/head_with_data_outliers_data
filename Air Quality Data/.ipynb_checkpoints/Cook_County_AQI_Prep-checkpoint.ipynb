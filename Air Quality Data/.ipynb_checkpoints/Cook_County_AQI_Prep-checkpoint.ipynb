{
 "cells": [
  {
   "cell_type": "code",
   "execution_count": 14,
   "metadata": {},
   "outputs": [],
   "source": [
    "import pandas as pd"
   ]
  },
  {
   "cell_type": "code",
   "execution_count": 15,
   "metadata": {},
   "outputs": [],
   "source": [
    "df = pd.read_csv('CookCounty.csv')"
   ]
  },
  {
   "cell_type": "code",
   "execution_count": 16,
   "metadata": {},
   "outputs": [
    {
     "data": {
      "text/html": [
       "<div>\n",
       "<style scoped>\n",
       "    .dataframe tbody tr th:only-of-type {\n",
       "        vertical-align: middle;\n",
       "    }\n",
       "\n",
       "    .dataframe tbody tr th {\n",
       "        vertical-align: top;\n",
       "    }\n",
       "\n",
       "    .dataframe thead th {\n",
       "        text-align: right;\n",
       "    }\n",
       "</style>\n",
       "<table border=\"1\" class=\"dataframe\">\n",
       "  <thead>\n",
       "    <tr style=\"text-align: right;\">\n",
       "      <th></th>\n",
       "      <th>Date</th>\n",
       "      <th>AQI Value</th>\n",
       "      <th>Main Pollutant</th>\n",
       "      <th>Site Name</th>\n",
       "      <th>Site ID</th>\n",
       "      <th>Source</th>\n",
       "    </tr>\n",
       "  </thead>\n",
       "  <tbody>\n",
       "    <tr>\n",
       "      <td>0</td>\n",
       "      <td>01/01/2019</td>\n",
       "      <td>37</td>\n",
       "      <td>PM2.5</td>\n",
       "      <td>VILLAGE GARAGE</td>\n",
       "      <td>17-031-0001</td>\n",
       "      <td>AQS</td>\n",
       "    </tr>\n",
       "    <tr>\n",
       "      <td>1</td>\n",
       "      <td>01/02/2019</td>\n",
       "      <td>50</td>\n",
       "      <td>PM2.5</td>\n",
       "      <td>COM ED MAINTENANCE BLDG</td>\n",
       "      <td>17-031-0076</td>\n",
       "      <td>AQS</td>\n",
       "    </tr>\n",
       "    <tr>\n",
       "      <td>2</td>\n",
       "      <td>01/03/2019</td>\n",
       "      <td>50</td>\n",
       "      <td>PM2.5</td>\n",
       "      <td>IEPA TRAILER</td>\n",
       "      <td>17-031-3103</td>\n",
       "      <td>AQS</td>\n",
       "    </tr>\n",
       "    <tr>\n",
       "      <td>3</td>\n",
       "      <td>01/04/2019</td>\n",
       "      <td>48</td>\n",
       "      <td>PM2.5</td>\n",
       "      <td>REGIONAL OFFICE BUILDING</td>\n",
       "      <td>17-031-4007</td>\n",
       "      <td>AQS</td>\n",
       "    </tr>\n",
       "    <tr>\n",
       "      <td>4</td>\n",
       "      <td>01/05/2019</td>\n",
       "      <td>56</td>\n",
       "      <td>PM2.5</td>\n",
       "      <td>COM ED MAINTENANCE BLDG</td>\n",
       "      <td>17-031-0076</td>\n",
       "      <td>AQS</td>\n",
       "    </tr>\n",
       "    <tr>\n",
       "      <td>...</td>\n",
       "      <td>...</td>\n",
       "      <td>...</td>\n",
       "      <td>...</td>\n",
       "      <td>...</td>\n",
       "      <td>...</td>\n",
       "      <td>...</td>\n",
       "    </tr>\n",
       "    <tr>\n",
       "      <td>600</td>\n",
       "      <td>08/23/2020</td>\n",
       "      <td>71</td>\n",
       "      <td>Ozone</td>\n",
       "      <td>NORTHBROOK WATER PLANT</td>\n",
       "      <td>17-031-4201</td>\n",
       "      <td>AirNow</td>\n",
       "    </tr>\n",
       "    <tr>\n",
       "      <td>601</td>\n",
       "      <td>08/24/2020</td>\n",
       "      <td>93</td>\n",
       "      <td>Ozone</td>\n",
       "      <td>WATER PLANT</td>\n",
       "      <td>17-031-7002</td>\n",
       "      <td>AirNow</td>\n",
       "    </tr>\n",
       "    <tr>\n",
       "      <td>602</td>\n",
       "      <td>08/25/2020</td>\n",
       "      <td>84</td>\n",
       "      <td>Ozone</td>\n",
       "      <td>COOK COUNTY TRAILER</td>\n",
       "      <td>17-031-1601</td>\n",
       "      <td>AirNow</td>\n",
       "    </tr>\n",
       "    <tr>\n",
       "      <td>603</td>\n",
       "      <td>08/26/2020</td>\n",
       "      <td>84</td>\n",
       "      <td>Ozone</td>\n",
       "      <td>COOK COUNTY TRAILER</td>\n",
       "      <td>17-031-4002</td>\n",
       "      <td>AirNow</td>\n",
       "    </tr>\n",
       "    <tr>\n",
       "      <td>604</td>\n",
       "      <td>08/27/2020</td>\n",
       "      <td>53</td>\n",
       "      <td>PM2.5</td>\n",
       "      <td>COM ED MAINTENANCE BLDG</td>\n",
       "      <td>17-031-0076</td>\n",
       "      <td>AirNow</td>\n",
       "    </tr>\n",
       "  </tbody>\n",
       "</table>\n",
       "<p>605 rows × 6 columns</p>\n",
       "</div>"
      ],
      "text/plain": [
       "           Date   AQI Value Main Pollutant                 Site Name  \\\n",
       "0    01/01/2019          37          PM2.5            VILLAGE GARAGE   \n",
       "1    01/02/2019          50          PM2.5   COM ED MAINTENANCE BLDG   \n",
       "2    01/03/2019          50          PM2.5              IEPA TRAILER   \n",
       "3    01/04/2019          48          PM2.5  REGIONAL OFFICE BUILDING   \n",
       "4    01/05/2019          56          PM2.5   COM ED MAINTENANCE BLDG   \n",
       "..          ...         ...            ...                       ...   \n",
       "600  08/23/2020          71          Ozone    NORTHBROOK WATER PLANT   \n",
       "601  08/24/2020          93          Ozone               WATER PLANT   \n",
       "602  08/25/2020          84          Ozone       COOK COUNTY TRAILER   \n",
       "603  08/26/2020          84          Ozone       COOK COUNTY TRAILER   \n",
       "604  08/27/2020          53          PM2.5   COM ED MAINTENANCE BLDG   \n",
       "\n",
       "         Site ID  Source  \n",
       "0    17-031-0001     AQS  \n",
       "1    17-031-0076     AQS  \n",
       "2    17-031-3103     AQS  \n",
       "3    17-031-4007     AQS  \n",
       "4    17-031-0076     AQS  \n",
       "..           ...     ...  \n",
       "600  17-031-4201  AirNow  \n",
       "601  17-031-7002  AirNow  \n",
       "602  17-031-1601  AirNow  \n",
       "603  17-031-4002  AirNow  \n",
       "604  17-031-0076  AirNow  \n",
       "\n",
       "[605 rows x 6 columns]"
      ]
     },
     "execution_count": 16,
     "metadata": {},
     "output_type": "execute_result"
    }
   ],
   "source": [
    "conditions = [\n",
    "    (df[' AQI Value'] <= 50),\n",
    "    (df[' AQI Value'] >=51) & (df[' AQI Value'] < 100),\n",
    "    (df[' AQI Value'] >=101 ) & (df[' AQI Value'] < 150),\n",
    "    (df[' AQI Value'] >=151 ) & (df[' AQI Value'] < 200),\n",
    "    (df[' AQI Value'] >=201 ) & (df[' AQI Value'] < 300),\n",
    "    (df[' AQI Value'] >=301 ) & (df[' AQI Value'] < 200),]\n",
    "choices = ['Good', 'Moderate', 'Unhealthy for Sensitive Group','Unhealthy','Very Unhealthy','Hazardous']\n",
    "df['AQI Category'] = np.select(conditions, choices, default='black')"
   ]
  },
  {
   "cell_type": "code",
   "execution_count": 19,
   "metadata": {},
   "outputs": [],
   "source": [
    "import json\n",
    "data = df.to_dict('records')\n",
    "with open('Cook_County_AQI.json', 'w', encoding='utf-8') as f:\n",
    "            json.dump(data, f, ensure_ascii=False, indent=4)"
   ]
  },
  {
   "cell_type": "code",
   "execution_count": 4,
   "metadata": {},
   "outputs": [],
   "source": [
    "df['Date'] = pd.to_datetime(df['Date'])\n",
    "df['year'], df['month'] = df['Date'].dt.year, df['Date'].dt.month.astype(str)+'/'+df['Date'].dt.day.astype(str)\n",
    "df_2020=df[(df['year'] == 2020) & (df['Date'] != \"2020-02-29\")]\n",
    "df_2019=df[(df['year'] == 2019) & (df['Date'] < \"2019-08-29\")]"
   ]
  },
  {
   "cell_type": "code",
   "execution_count": 7,
   "metadata": {},
   "outputs": [
    {
     "data": {
      "application/vnd.plotly.v1+json": {
       "config": {
        "plotlyServerURL": "https://plot.ly"
       },
       "data": [
        {
         "mode": "lines",
         "name": "2020",
         "type": "scatter",
         "x": [
          "1/1",
          "1/2",
          "1/3",
          "1/4",
          "1/5",
          "1/6",
          "1/7",
          "1/8",
          "1/9",
          "1/10",
          "1/11",
          "1/12",
          "1/13",
          "1/14",
          "1/15",
          "1/16",
          "1/17",
          "1/18",
          "1/19",
          "1/20",
          "1/21",
          "1/22",
          "1/23",
          "1/24",
          "1/25",
          "1/26",
          "1/27",
          "1/28",
          "1/29",
          "1/30",
          "1/31",
          "2/1",
          "2/2",
          "2/3",
          "2/4",
          "2/5",
          "2/6",
          "2/7",
          "2/8",
          "2/9",
          "2/10",
          "2/11",
          "2/12",
          "2/13",
          "2/14",
          "2/15",
          "2/16",
          "2/17",
          "2/18",
          "2/19",
          "2/20",
          "2/21",
          "2/22",
          "2/23",
          "2/24",
          "2/25",
          "2/26",
          "2/27",
          "2/28",
          "3/1",
          "3/2",
          "3/3",
          "3/4",
          "3/5",
          "3/6",
          "3/7",
          "3/8",
          "3/9",
          "3/10",
          "3/11",
          "3/12",
          "3/13",
          "3/14",
          "3/15",
          "3/16",
          "3/17",
          "3/18",
          "3/19",
          "3/20",
          "3/21",
          "3/22",
          "3/23",
          "3/24",
          "3/25",
          "3/26",
          "3/27",
          "3/28",
          "3/29",
          "3/30",
          "3/31",
          "4/1",
          "4/2",
          "4/3",
          "4/4",
          "4/5",
          "4/6",
          "4/7",
          "4/8",
          "4/9",
          "4/10",
          "4/11",
          "4/12",
          "4/13",
          "4/14",
          "4/15",
          "4/16",
          "4/17",
          "4/18",
          "4/19",
          "4/20",
          "4/21",
          "4/22",
          "4/23",
          "4/24",
          "4/25",
          "4/26",
          "4/27",
          "4/28",
          "4/29",
          "4/30",
          "5/1",
          "5/2",
          "5/3",
          "5/4",
          "5/5",
          "5/6",
          "5/7",
          "5/8",
          "5/9",
          "5/10",
          "5/11",
          "5/12",
          "5/13",
          "5/14",
          "5/15",
          "5/16",
          "5/17",
          "5/18",
          "5/19",
          "5/20",
          "5/21",
          "5/22",
          "5/23",
          "5/24",
          "5/25",
          "5/26",
          "5/27",
          "5/28",
          "5/29",
          "5/30",
          "5/31",
          "6/1",
          "6/2",
          "6/3",
          "6/4",
          "6/5",
          "6/6",
          "6/7",
          "6/8",
          "6/9",
          "6/10",
          "6/11",
          "6/12",
          "6/13",
          "6/14",
          "6/15",
          "6/16",
          "6/17",
          "6/18",
          "6/19",
          "6/20",
          "6/21",
          "6/22",
          "6/23",
          "6/24",
          "6/25",
          "6/26",
          "6/27",
          "6/28",
          "6/29",
          "6/30",
          "7/1",
          "7/2",
          "7/3",
          "7/4",
          "7/5",
          "7/6",
          "7/7",
          "7/8",
          "7/9",
          "7/10",
          "7/11",
          "7/12",
          "7/13",
          "7/14",
          "7/15",
          "7/16",
          "7/17",
          "7/18",
          "7/19",
          "7/20",
          "7/21",
          "7/22",
          "7/23",
          "7/24",
          "7/25",
          "7/26",
          "7/27",
          "7/28",
          "7/29",
          "7/30",
          "7/31",
          "8/1",
          "8/2",
          "8/3",
          "8/4",
          "8/5",
          "8/6",
          "8/7",
          "8/8",
          "8/9",
          "8/10",
          "8/11",
          "8/12",
          "8/13",
          "8/14",
          "8/15",
          "8/16",
          "8/17",
          "8/18",
          "8/19",
          "8/20",
          "8/21",
          "8/22",
          "8/23",
          "8/24",
          "8/25",
          "8/26",
          "8/27"
         ],
         "y": [
          31,
          38,
          55,
          47,
          29,
          35,
          35,
          31,
          33,
          61,
          34,
          44,
          51,
          61,
          77,
          52,
          35,
          40,
          53,
          51,
          57,
          59,
          59,
          62,
          51,
          47,
          65,
          63,
          64,
          62,
          69,
          59,
          40,
          55,
          33,
          35,
          36,
          52,
          59,
          55,
          57,
          59,
          62,
          37,
          58,
          52,
          66,
          69,
          53,
          38,
          35,
          73,
          48,
          55,
          55,
          38,
          39,
          34,
          38,
          39,
          42,
          42,
          45,
          53,
          38,
          47,
          43,
          53,
          42,
          65,
          58,
          36,
          35,
          36,
          55,
          52,
          63,
          59,
          40,
          40,
          61,
          60,
          77,
          66,
          58,
          60,
          54,
          38,
          41,
          33,
          57,
          53,
          61,
          32,
          42,
          52,
          62,
          62,
          42,
          40,
          55,
          49,
          42,
          38,
          39,
          42,
          56,
          60,
          42,
          59,
          44,
          54,
          72,
          69,
          59,
          44,
          65,
          63,
          40,
          42,
          49,
          57,
          49,
          41,
          42,
          54,
          46,
          36,
          45,
          35,
          37,
          47,
          52,
          68,
          62,
          58,
          61,
          62,
          58,
          56,
          61,
          64,
          59,
          77,
          61,
          60,
          71,
          58,
          64,
          41,
          44,
          74,
          108,
          74,
          112,
          154,
          87,
          64,
          101,
          58,
          54,
          49,
          48,
          37,
          44,
          64,
          100,
          126,
          156,
          164,
          75,
          77,
          80,
          53,
          40,
          97,
          54,
          112,
          77,
          73,
          84,
          108,
          105,
          140,
          105,
          77,
          156,
          136,
          119,
          101,
          54,
          84,
          37,
          48,
          93,
          77,
          74,
          84,
          67,
          51,
          45,
          40,
          44,
          48,
          90,
          112,
          51,
          43,
          45,
          61,
          37,
          34,
          39,
          44,
          28,
          32,
          45,
          67,
          80,
          77,
          64,
          49,
          46,
          84,
          100,
          93,
          129,
          42,
          54,
          36,
          42,
          80,
          101,
          77,
          71,
          93,
          84,
          84,
          53
         ]
        },
        {
         "mode": "lines",
         "name": "2019",
         "type": "scatter",
         "x": [
          "1/1",
          "1/2",
          "1/3",
          "1/4",
          "1/5",
          "1/6",
          "1/7",
          "1/8",
          "1/9",
          "1/10",
          "1/11",
          "1/12",
          "1/13",
          "1/14",
          "1/15",
          "1/16",
          "1/17",
          "1/18",
          "1/19",
          "1/20",
          "1/21",
          "1/22",
          "1/23",
          "1/24",
          "1/25",
          "1/26",
          "1/27",
          "1/28",
          "1/29",
          "1/30",
          "1/31",
          "2/1",
          "2/2",
          "2/3",
          "2/4",
          "2/5",
          "2/6",
          "2/7",
          "2/8",
          "2/9",
          "2/10",
          "2/11",
          "2/12",
          "2/13",
          "2/14",
          "2/15",
          "2/16",
          "2/17",
          "2/18",
          "2/19",
          "2/20",
          "2/21",
          "2/22",
          "2/23",
          "2/24",
          "2/25",
          "2/26",
          "2/27",
          "2/28",
          "3/1",
          "3/2",
          "3/3",
          "3/4",
          "3/5",
          "3/6",
          "3/7",
          "3/8",
          "3/9",
          "3/10",
          "3/11",
          "3/12",
          "3/13",
          "3/14",
          "3/15",
          "3/16",
          "3/17",
          "3/18",
          "3/19",
          "3/20",
          "3/21",
          "3/22",
          "3/23",
          "3/24",
          "3/25",
          "3/26",
          "3/27",
          "3/28",
          "3/29",
          "3/30",
          "3/31",
          "4/1",
          "4/2",
          "4/3",
          "4/4",
          "4/5",
          "4/6",
          "4/7",
          "4/8",
          "4/9",
          "4/10",
          "4/11",
          "4/12",
          "4/13",
          "4/14",
          "4/15",
          "4/16",
          "4/17",
          "4/18",
          "4/19",
          "4/20",
          "4/21",
          "4/22",
          "4/23",
          "4/24",
          "4/25",
          "4/26",
          "4/27",
          "4/28",
          "4/29",
          "4/30",
          "5/1",
          "5/2",
          "5/3",
          "5/4",
          "5/5",
          "5/6",
          "5/7",
          "5/8",
          "5/9",
          "5/10",
          "5/11",
          "5/12",
          "5/13",
          "5/14",
          "5/15",
          "5/16",
          "5/17",
          "5/18",
          "5/19",
          "5/20",
          "5/21",
          "5/22",
          "5/23",
          "5/24",
          "5/25",
          "5/26",
          "5/27",
          "5/28",
          "5/29",
          "5/30",
          "5/31",
          "6/1",
          "6/2",
          "6/3",
          "6/4",
          "6/5",
          "6/6",
          "6/7",
          "6/8",
          "6/9",
          "6/10",
          "6/11",
          "6/12",
          "6/13",
          "6/14",
          "6/15",
          "6/16",
          "6/17",
          "6/18",
          "6/19",
          "6/20",
          "6/21",
          "6/22",
          "6/23",
          "6/24",
          "6/25",
          "6/26",
          "6/27",
          "6/28",
          "6/29",
          "6/30",
          "7/1",
          "7/2",
          "7/3",
          "7/4",
          "7/5",
          "7/6",
          "7/7",
          "7/8",
          "7/9",
          "7/10",
          "7/11",
          "7/12",
          "7/13",
          "7/14",
          "7/15",
          "7/16",
          "7/17",
          "7/18",
          "7/19",
          "7/20",
          "7/21",
          "7/22",
          "7/23",
          "7/24",
          "7/25",
          "7/26",
          "7/27",
          "7/28",
          "7/29",
          "7/30",
          "7/31",
          "8/1",
          "8/2",
          "8/3",
          "8/4",
          "8/5",
          "8/6",
          "8/7",
          "8/8",
          "8/9",
          "8/10",
          "8/11",
          "8/12",
          "8/13",
          "8/14",
          "8/15",
          "8/16",
          "8/17",
          "8/18",
          "8/19",
          "8/20",
          "8/21",
          "8/22",
          "8/23",
          "8/24",
          "8/25",
          "8/26",
          "8/27",
          "8/28"
         ],
         "y": [
          37,
          50,
          50,
          48,
          56,
          35,
          51,
          52,
          29,
          42,
          65,
          67,
          37,
          54,
          53,
          34,
          61,
          58,
          35,
          34,
          64,
          47,
          52,
          71,
          40,
          65,
          64,
          54,
          31,
          38,
          42,
          69,
          87,
          60,
          53,
          52,
          49,
          39,
          54,
          41,
          59,
          69,
          37,
          48,
          43,
          48,
          39,
          42,
          45,
          76,
          54,
          62,
          79,
          75,
          52,
          37,
          35,
          57,
          55,
          63,
          57,
          40,
          51,
          58,
          55,
          59,
          82,
          73,
          51,
          49,
          74,
          45,
          71,
          41,
          45,
          54,
          65,
          55,
          64,
          59,
          44,
          59,
          56,
          44,
          55,
          52,
          71,
          46,
          42,
          43,
          43,
          57,
          59,
          49,
          72,
          97,
          58,
          50,
          46,
          34,
          48,
          40,
          49,
          41,
          45,
          51,
          63,
          52,
          44,
          46,
          71,
          54,
          48,
          50,
          61,
          49,
          47,
          46,
          46,
          77,
          43,
          41,
          36,
          55,
          67,
          44,
          39,
          43,
          55,
          41,
          44,
          44,
          44,
          50,
          77,
          58,
          48,
          54,
          54,
          30,
          33,
          61,
          43,
          54,
          52,
          54,
          58,
          53,
          60,
          84,
          61,
          65,
          51,
          36,
          62,
          115,
          71,
          74,
          58,
          64,
          57,
          77,
          47,
          40,
          58,
          80,
          67,
          65,
          70,
          70,
          55,
          51,
          56,
          55,
          47,
          51,
          105,
          97,
          101,
          129,
          87,
          90,
          71,
          108,
          93,
          101,
          76,
          70,
          71,
          129,
          80,
          70,
          93,
          105,
          90,
          62,
          61,
          96,
          59,
          63,
          57,
          49,
          39,
          51,
          51,
          97,
          74,
          71,
          71,
          59,
          35,
          33,
          48,
          93,
          133,
          71,
          80,
          50,
          55,
          44,
          49,
          93,
          64,
          67,
          64,
          53,
          46,
          53,
          55,
          50,
          58,
          56,
          55,
          45,
          33,
          38,
          45,
          48,
          45,
          32
         ]
        }
       ],
       "layout": {
        "shapes": [
         {
          "fillcolor": "red",
          "layer": "below",
          "line": {
           "width": 0
          },
          "opacity": 0.5,
          "type": "rect",
          "x0": "3/15",
          "x1": "6/3",
          "xref": "x",
          "y0": 0,
          "y1": 1,
          "yref": "paper"
         },
         {
          "fillcolor": "lightgreen",
          "layer": "below",
          "line": {
           "width": 0
          },
          "opacity": 0.5,
          "type": "rect",
          "x0": "6/24",
          "x1": "8/29",
          "xref": "x",
          "y0": 0,
          "y1": 1,
          "yref": "paper"
         }
        ],
        "template": {
         "data": {
          "bar": [
           {
            "error_x": {
             "color": "#2a3f5f"
            },
            "error_y": {
             "color": "#2a3f5f"
            },
            "marker": {
             "line": {
              "color": "#E5ECF6",
              "width": 0.5
             }
            },
            "type": "bar"
           }
          ],
          "barpolar": [
           {
            "marker": {
             "line": {
              "color": "#E5ECF6",
              "width": 0.5
             }
            },
            "type": "barpolar"
           }
          ],
          "carpet": [
           {
            "aaxis": {
             "endlinecolor": "#2a3f5f",
             "gridcolor": "white",
             "linecolor": "white",
             "minorgridcolor": "white",
             "startlinecolor": "#2a3f5f"
            },
            "baxis": {
             "endlinecolor": "#2a3f5f",
             "gridcolor": "white",
             "linecolor": "white",
             "minorgridcolor": "white",
             "startlinecolor": "#2a3f5f"
            },
            "type": "carpet"
           }
          ],
          "choropleth": [
           {
            "colorbar": {
             "outlinewidth": 0,
             "ticks": ""
            },
            "type": "choropleth"
           }
          ],
          "contour": [
           {
            "colorbar": {
             "outlinewidth": 0,
             "ticks": ""
            },
            "colorscale": [
             [
              0,
              "#0d0887"
             ],
             [
              0.1111111111111111,
              "#46039f"
             ],
             [
              0.2222222222222222,
              "#7201a8"
             ],
             [
              0.3333333333333333,
              "#9c179e"
             ],
             [
              0.4444444444444444,
              "#bd3786"
             ],
             [
              0.5555555555555556,
              "#d8576b"
             ],
             [
              0.6666666666666666,
              "#ed7953"
             ],
             [
              0.7777777777777778,
              "#fb9f3a"
             ],
             [
              0.8888888888888888,
              "#fdca26"
             ],
             [
              1,
              "#f0f921"
             ]
            ],
            "type": "contour"
           }
          ],
          "contourcarpet": [
           {
            "colorbar": {
             "outlinewidth": 0,
             "ticks": ""
            },
            "type": "contourcarpet"
           }
          ],
          "heatmap": [
           {
            "colorbar": {
             "outlinewidth": 0,
             "ticks": ""
            },
            "colorscale": [
             [
              0,
              "#0d0887"
             ],
             [
              0.1111111111111111,
              "#46039f"
             ],
             [
              0.2222222222222222,
              "#7201a8"
             ],
             [
              0.3333333333333333,
              "#9c179e"
             ],
             [
              0.4444444444444444,
              "#bd3786"
             ],
             [
              0.5555555555555556,
              "#d8576b"
             ],
             [
              0.6666666666666666,
              "#ed7953"
             ],
             [
              0.7777777777777778,
              "#fb9f3a"
             ],
             [
              0.8888888888888888,
              "#fdca26"
             ],
             [
              1,
              "#f0f921"
             ]
            ],
            "type": "heatmap"
           }
          ],
          "heatmapgl": [
           {
            "colorbar": {
             "outlinewidth": 0,
             "ticks": ""
            },
            "colorscale": [
             [
              0,
              "#0d0887"
             ],
             [
              0.1111111111111111,
              "#46039f"
             ],
             [
              0.2222222222222222,
              "#7201a8"
             ],
             [
              0.3333333333333333,
              "#9c179e"
             ],
             [
              0.4444444444444444,
              "#bd3786"
             ],
             [
              0.5555555555555556,
              "#d8576b"
             ],
             [
              0.6666666666666666,
              "#ed7953"
             ],
             [
              0.7777777777777778,
              "#fb9f3a"
             ],
             [
              0.8888888888888888,
              "#fdca26"
             ],
             [
              1,
              "#f0f921"
             ]
            ],
            "type": "heatmapgl"
           }
          ],
          "histogram": [
           {
            "marker": {
             "colorbar": {
              "outlinewidth": 0,
              "ticks": ""
             }
            },
            "type": "histogram"
           }
          ],
          "histogram2d": [
           {
            "colorbar": {
             "outlinewidth": 0,
             "ticks": ""
            },
            "colorscale": [
             [
              0,
              "#0d0887"
             ],
             [
              0.1111111111111111,
              "#46039f"
             ],
             [
              0.2222222222222222,
              "#7201a8"
             ],
             [
              0.3333333333333333,
              "#9c179e"
             ],
             [
              0.4444444444444444,
              "#bd3786"
             ],
             [
              0.5555555555555556,
              "#d8576b"
             ],
             [
              0.6666666666666666,
              "#ed7953"
             ],
             [
              0.7777777777777778,
              "#fb9f3a"
             ],
             [
              0.8888888888888888,
              "#fdca26"
             ],
             [
              1,
              "#f0f921"
             ]
            ],
            "type": "histogram2d"
           }
          ],
          "histogram2dcontour": [
           {
            "colorbar": {
             "outlinewidth": 0,
             "ticks": ""
            },
            "colorscale": [
             [
              0,
              "#0d0887"
             ],
             [
              0.1111111111111111,
              "#46039f"
             ],
             [
              0.2222222222222222,
              "#7201a8"
             ],
             [
              0.3333333333333333,
              "#9c179e"
             ],
             [
              0.4444444444444444,
              "#bd3786"
             ],
             [
              0.5555555555555556,
              "#d8576b"
             ],
             [
              0.6666666666666666,
              "#ed7953"
             ],
             [
              0.7777777777777778,
              "#fb9f3a"
             ],
             [
              0.8888888888888888,
              "#fdca26"
             ],
             [
              1,
              "#f0f921"
             ]
            ],
            "type": "histogram2dcontour"
           }
          ],
          "mesh3d": [
           {
            "colorbar": {
             "outlinewidth": 0,
             "ticks": ""
            },
            "type": "mesh3d"
           }
          ],
          "parcoords": [
           {
            "line": {
             "colorbar": {
              "outlinewidth": 0,
              "ticks": ""
             }
            },
            "type": "parcoords"
           }
          ],
          "pie": [
           {
            "automargin": true,
            "type": "pie"
           }
          ],
          "scatter": [
           {
            "marker": {
             "colorbar": {
              "outlinewidth": 0,
              "ticks": ""
             }
            },
            "type": "scatter"
           }
          ],
          "scatter3d": [
           {
            "line": {
             "colorbar": {
              "outlinewidth": 0,
              "ticks": ""
             }
            },
            "marker": {
             "colorbar": {
              "outlinewidth": 0,
              "ticks": ""
             }
            },
            "type": "scatter3d"
           }
          ],
          "scattercarpet": [
           {
            "marker": {
             "colorbar": {
              "outlinewidth": 0,
              "ticks": ""
             }
            },
            "type": "scattercarpet"
           }
          ],
          "scattergeo": [
           {
            "marker": {
             "colorbar": {
              "outlinewidth": 0,
              "ticks": ""
             }
            },
            "type": "scattergeo"
           }
          ],
          "scattergl": [
           {
            "marker": {
             "colorbar": {
              "outlinewidth": 0,
              "ticks": ""
             }
            },
            "type": "scattergl"
           }
          ],
          "scattermapbox": [
           {
            "marker": {
             "colorbar": {
              "outlinewidth": 0,
              "ticks": ""
             }
            },
            "type": "scattermapbox"
           }
          ],
          "scatterpolar": [
           {
            "marker": {
             "colorbar": {
              "outlinewidth": 0,
              "ticks": ""
             }
            },
            "type": "scatterpolar"
           }
          ],
          "scatterpolargl": [
           {
            "marker": {
             "colorbar": {
              "outlinewidth": 0,
              "ticks": ""
             }
            },
            "type": "scatterpolargl"
           }
          ],
          "scatterternary": [
           {
            "marker": {
             "colorbar": {
              "outlinewidth": 0,
              "ticks": ""
             }
            },
            "type": "scatterternary"
           }
          ],
          "surface": [
           {
            "colorbar": {
             "outlinewidth": 0,
             "ticks": ""
            },
            "colorscale": [
             [
              0,
              "#0d0887"
             ],
             [
              0.1111111111111111,
              "#46039f"
             ],
             [
              0.2222222222222222,
              "#7201a8"
             ],
             [
              0.3333333333333333,
              "#9c179e"
             ],
             [
              0.4444444444444444,
              "#bd3786"
             ],
             [
              0.5555555555555556,
              "#d8576b"
             ],
             [
              0.6666666666666666,
              "#ed7953"
             ],
             [
              0.7777777777777778,
              "#fb9f3a"
             ],
             [
              0.8888888888888888,
              "#fdca26"
             ],
             [
              1,
              "#f0f921"
             ]
            ],
            "type": "surface"
           }
          ],
          "table": [
           {
            "cells": {
             "fill": {
              "color": "#EBF0F8"
             },
             "line": {
              "color": "white"
             }
            },
            "header": {
             "fill": {
              "color": "#C8D4E3"
             },
             "line": {
              "color": "white"
             }
            },
            "type": "table"
           }
          ]
         },
         "layout": {
          "annotationdefaults": {
           "arrowcolor": "#2a3f5f",
           "arrowhead": 0,
           "arrowwidth": 1
          },
          "coloraxis": {
           "colorbar": {
            "outlinewidth": 0,
            "ticks": ""
           }
          },
          "colorscale": {
           "diverging": [
            [
             0,
             "#8e0152"
            ],
            [
             0.1,
             "#c51b7d"
            ],
            [
             0.2,
             "#de77ae"
            ],
            [
             0.3,
             "#f1b6da"
            ],
            [
             0.4,
             "#fde0ef"
            ],
            [
             0.5,
             "#f7f7f7"
            ],
            [
             0.6,
             "#e6f5d0"
            ],
            [
             0.7,
             "#b8e186"
            ],
            [
             0.8,
             "#7fbc41"
            ],
            [
             0.9,
             "#4d9221"
            ],
            [
             1,
             "#276419"
            ]
           ],
           "sequential": [
            [
             0,
             "#0d0887"
            ],
            [
             0.1111111111111111,
             "#46039f"
            ],
            [
             0.2222222222222222,
             "#7201a8"
            ],
            [
             0.3333333333333333,
             "#9c179e"
            ],
            [
             0.4444444444444444,
             "#bd3786"
            ],
            [
             0.5555555555555556,
             "#d8576b"
            ],
            [
             0.6666666666666666,
             "#ed7953"
            ],
            [
             0.7777777777777778,
             "#fb9f3a"
            ],
            [
             0.8888888888888888,
             "#fdca26"
            ],
            [
             1,
             "#f0f921"
            ]
           ],
           "sequentialminus": [
            [
             0,
             "#0d0887"
            ],
            [
             0.1111111111111111,
             "#46039f"
            ],
            [
             0.2222222222222222,
             "#7201a8"
            ],
            [
             0.3333333333333333,
             "#9c179e"
            ],
            [
             0.4444444444444444,
             "#bd3786"
            ],
            [
             0.5555555555555556,
             "#d8576b"
            ],
            [
             0.6666666666666666,
             "#ed7953"
            ],
            [
             0.7777777777777778,
             "#fb9f3a"
            ],
            [
             0.8888888888888888,
             "#fdca26"
            ],
            [
             1,
             "#f0f921"
            ]
           ]
          },
          "colorway": [
           "#636efa",
           "#EF553B",
           "#00cc96",
           "#ab63fa",
           "#FFA15A",
           "#19d3f3",
           "#FF6692",
           "#B6E880",
           "#FF97FF",
           "#FECB52"
          ],
          "font": {
           "color": "#2a3f5f"
          },
          "geo": {
           "bgcolor": "white",
           "lakecolor": "white",
           "landcolor": "#E5ECF6",
           "showlakes": true,
           "showland": true,
           "subunitcolor": "white"
          },
          "hoverlabel": {
           "align": "left"
          },
          "hovermode": "closest",
          "mapbox": {
           "style": "light"
          },
          "paper_bgcolor": "white",
          "plot_bgcolor": "#E5ECF6",
          "polar": {
           "angularaxis": {
            "gridcolor": "white",
            "linecolor": "white",
            "ticks": ""
           },
           "bgcolor": "#E5ECF6",
           "radialaxis": {
            "gridcolor": "white",
            "linecolor": "white",
            "ticks": ""
           }
          },
          "scene": {
           "xaxis": {
            "backgroundcolor": "#E5ECF6",
            "gridcolor": "white",
            "gridwidth": 2,
            "linecolor": "white",
            "showbackground": true,
            "ticks": "",
            "zerolinecolor": "white"
           },
           "yaxis": {
            "backgroundcolor": "#E5ECF6",
            "gridcolor": "white",
            "gridwidth": 2,
            "linecolor": "white",
            "showbackground": true,
            "ticks": "",
            "zerolinecolor": "white"
           },
           "zaxis": {
            "backgroundcolor": "#E5ECF6",
            "gridcolor": "white",
            "gridwidth": 2,
            "linecolor": "white",
            "showbackground": true,
            "ticks": "",
            "zerolinecolor": "white"
           }
          },
          "shapedefaults": {
           "line": {
            "color": "#2a3f5f"
           }
          },
          "ternary": {
           "aaxis": {
            "gridcolor": "white",
            "linecolor": "white",
            "ticks": ""
           },
           "baxis": {
            "gridcolor": "white",
            "linecolor": "white",
            "ticks": ""
           },
           "bgcolor": "#E5ECF6",
           "caxis": {
            "gridcolor": "white",
            "linecolor": "white",
            "ticks": ""
           }
          },
          "title": {
           "x": 0.05
          },
          "xaxis": {
           "automargin": true,
           "gridcolor": "white",
           "linecolor": "white",
           "ticks": "",
           "title": {
            "standoff": 15
           },
           "zerolinecolor": "white",
           "zerolinewidth": 2
          },
          "yaxis": {
           "automargin": true,
           "gridcolor": "white",
           "linecolor": "white",
           "ticks": "",
           "title": {
            "standoff": 15
           },
           "zerolinecolor": "white",
           "zerolinewidth": 2
          }
         }
        }
       }
      },
      "text/html": [
       "<div>\n",
       "        \n",
       "        \n",
       "            <div id=\"4fdf7213-159b-4b27-98f5-fdfda4f4e753\" class=\"plotly-graph-div\" style=\"height:525px; width:100%;\"></div>\n",
       "            <script type=\"text/javascript\">\n",
       "                require([\"plotly\"], function(Plotly) {\n",
       "                    window.PLOTLYENV=window.PLOTLYENV || {};\n",
       "                    \n",
       "                if (document.getElementById(\"4fdf7213-159b-4b27-98f5-fdfda4f4e753\")) {\n",
       "                    Plotly.newPlot(\n",
       "                        '4fdf7213-159b-4b27-98f5-fdfda4f4e753',\n",
       "                        [{\"mode\": \"lines\", \"name\": \"2020\", \"type\": \"scatter\", \"x\": [\"1/1\", \"1/2\", \"1/3\", \"1/4\", \"1/5\", \"1/6\", \"1/7\", \"1/8\", \"1/9\", \"1/10\", \"1/11\", \"1/12\", \"1/13\", \"1/14\", \"1/15\", \"1/16\", \"1/17\", \"1/18\", \"1/19\", \"1/20\", \"1/21\", \"1/22\", \"1/23\", \"1/24\", \"1/25\", \"1/26\", \"1/27\", \"1/28\", \"1/29\", \"1/30\", \"1/31\", \"2/1\", \"2/2\", \"2/3\", \"2/4\", \"2/5\", \"2/6\", \"2/7\", \"2/8\", \"2/9\", \"2/10\", \"2/11\", \"2/12\", \"2/13\", \"2/14\", \"2/15\", \"2/16\", \"2/17\", \"2/18\", \"2/19\", \"2/20\", \"2/21\", \"2/22\", \"2/23\", \"2/24\", \"2/25\", \"2/26\", \"2/27\", \"2/28\", \"3/1\", \"3/2\", \"3/3\", \"3/4\", \"3/5\", \"3/6\", \"3/7\", \"3/8\", \"3/9\", \"3/10\", \"3/11\", \"3/12\", \"3/13\", \"3/14\", \"3/15\", \"3/16\", \"3/17\", \"3/18\", \"3/19\", \"3/20\", \"3/21\", \"3/22\", \"3/23\", \"3/24\", \"3/25\", \"3/26\", \"3/27\", \"3/28\", \"3/29\", \"3/30\", \"3/31\", \"4/1\", \"4/2\", \"4/3\", \"4/4\", \"4/5\", \"4/6\", \"4/7\", \"4/8\", \"4/9\", \"4/10\", \"4/11\", \"4/12\", \"4/13\", \"4/14\", \"4/15\", \"4/16\", \"4/17\", \"4/18\", \"4/19\", \"4/20\", \"4/21\", \"4/22\", \"4/23\", \"4/24\", \"4/25\", \"4/26\", \"4/27\", \"4/28\", \"4/29\", \"4/30\", \"5/1\", \"5/2\", \"5/3\", \"5/4\", \"5/5\", \"5/6\", \"5/7\", \"5/8\", \"5/9\", \"5/10\", \"5/11\", \"5/12\", \"5/13\", \"5/14\", \"5/15\", \"5/16\", \"5/17\", \"5/18\", \"5/19\", \"5/20\", \"5/21\", \"5/22\", \"5/23\", \"5/24\", \"5/25\", \"5/26\", \"5/27\", \"5/28\", \"5/29\", \"5/30\", \"5/31\", \"6/1\", \"6/2\", \"6/3\", \"6/4\", \"6/5\", \"6/6\", \"6/7\", \"6/8\", \"6/9\", \"6/10\", \"6/11\", \"6/12\", \"6/13\", \"6/14\", \"6/15\", \"6/16\", \"6/17\", \"6/18\", \"6/19\", \"6/20\", \"6/21\", \"6/22\", \"6/23\", \"6/24\", \"6/25\", \"6/26\", \"6/27\", \"6/28\", \"6/29\", \"6/30\", \"7/1\", \"7/2\", \"7/3\", \"7/4\", \"7/5\", \"7/6\", \"7/7\", \"7/8\", \"7/9\", \"7/10\", \"7/11\", \"7/12\", \"7/13\", \"7/14\", \"7/15\", \"7/16\", \"7/17\", \"7/18\", \"7/19\", \"7/20\", \"7/21\", \"7/22\", \"7/23\", \"7/24\", \"7/25\", \"7/26\", \"7/27\", \"7/28\", \"7/29\", \"7/30\", \"7/31\", \"8/1\", \"8/2\", \"8/3\", \"8/4\", \"8/5\", \"8/6\", \"8/7\", \"8/8\", \"8/9\", \"8/10\", \"8/11\", \"8/12\", \"8/13\", \"8/14\", \"8/15\", \"8/16\", \"8/17\", \"8/18\", \"8/19\", \"8/20\", \"8/21\", \"8/22\", \"8/23\", \"8/24\", \"8/25\", \"8/26\", \"8/27\"], \"y\": [31, 38, 55, 47, 29, 35, 35, 31, 33, 61, 34, 44, 51, 61, 77, 52, 35, 40, 53, 51, 57, 59, 59, 62, 51, 47, 65, 63, 64, 62, 69, 59, 40, 55, 33, 35, 36, 52, 59, 55, 57, 59, 62, 37, 58, 52, 66, 69, 53, 38, 35, 73, 48, 55, 55, 38, 39, 34, 38, 39, 42, 42, 45, 53, 38, 47, 43, 53, 42, 65, 58, 36, 35, 36, 55, 52, 63, 59, 40, 40, 61, 60, 77, 66, 58, 60, 54, 38, 41, 33, 57, 53, 61, 32, 42, 52, 62, 62, 42, 40, 55, 49, 42, 38, 39, 42, 56, 60, 42, 59, 44, 54, 72, 69, 59, 44, 65, 63, 40, 42, 49, 57, 49, 41, 42, 54, 46, 36, 45, 35, 37, 47, 52, 68, 62, 58, 61, 62, 58, 56, 61, 64, 59, 77, 61, 60, 71, 58, 64, 41, 44, 74, 108, 74, 112, 154, 87, 64, 101, 58, 54, 49, 48, 37, 44, 64, 100, 126, 156, 164, 75, 77, 80, 53, 40, 97, 54, 112, 77, 73, 84, 108, 105, 140, 105, 77, 156, 136, 119, 101, 54, 84, 37, 48, 93, 77, 74, 84, 67, 51, 45, 40, 44, 48, 90, 112, 51, 43, 45, 61, 37, 34, 39, 44, 28, 32, 45, 67, 80, 77, 64, 49, 46, 84, 100, 93, 129, 42, 54, 36, 42, 80, 101, 77, 71, 93, 84, 84, 53]}, {\"mode\": \"lines\", \"name\": \"2019\", \"type\": \"scatter\", \"x\": [\"1/1\", \"1/2\", \"1/3\", \"1/4\", \"1/5\", \"1/6\", \"1/7\", \"1/8\", \"1/9\", \"1/10\", \"1/11\", \"1/12\", \"1/13\", \"1/14\", \"1/15\", \"1/16\", \"1/17\", \"1/18\", \"1/19\", \"1/20\", \"1/21\", \"1/22\", \"1/23\", \"1/24\", \"1/25\", \"1/26\", \"1/27\", \"1/28\", \"1/29\", \"1/30\", \"1/31\", \"2/1\", \"2/2\", \"2/3\", \"2/4\", \"2/5\", \"2/6\", \"2/7\", \"2/8\", \"2/9\", \"2/10\", \"2/11\", \"2/12\", \"2/13\", \"2/14\", \"2/15\", \"2/16\", \"2/17\", \"2/18\", \"2/19\", \"2/20\", \"2/21\", \"2/22\", \"2/23\", \"2/24\", \"2/25\", \"2/26\", \"2/27\", \"2/28\", \"3/1\", \"3/2\", \"3/3\", \"3/4\", \"3/5\", \"3/6\", \"3/7\", \"3/8\", \"3/9\", \"3/10\", \"3/11\", \"3/12\", \"3/13\", \"3/14\", \"3/15\", \"3/16\", \"3/17\", \"3/18\", \"3/19\", \"3/20\", \"3/21\", \"3/22\", \"3/23\", \"3/24\", \"3/25\", \"3/26\", \"3/27\", \"3/28\", \"3/29\", \"3/30\", \"3/31\", \"4/1\", \"4/2\", \"4/3\", \"4/4\", \"4/5\", \"4/6\", \"4/7\", \"4/8\", \"4/9\", \"4/10\", \"4/11\", \"4/12\", \"4/13\", \"4/14\", \"4/15\", \"4/16\", \"4/17\", \"4/18\", \"4/19\", \"4/20\", \"4/21\", \"4/22\", \"4/23\", \"4/24\", \"4/25\", \"4/26\", \"4/27\", \"4/28\", \"4/29\", \"4/30\", \"5/1\", \"5/2\", \"5/3\", \"5/4\", \"5/5\", \"5/6\", \"5/7\", \"5/8\", \"5/9\", \"5/10\", \"5/11\", \"5/12\", \"5/13\", \"5/14\", \"5/15\", \"5/16\", \"5/17\", \"5/18\", \"5/19\", \"5/20\", \"5/21\", \"5/22\", \"5/23\", \"5/24\", \"5/25\", \"5/26\", \"5/27\", \"5/28\", \"5/29\", \"5/30\", \"5/31\", \"6/1\", \"6/2\", \"6/3\", \"6/4\", \"6/5\", \"6/6\", \"6/7\", \"6/8\", \"6/9\", \"6/10\", \"6/11\", \"6/12\", \"6/13\", \"6/14\", \"6/15\", \"6/16\", \"6/17\", \"6/18\", \"6/19\", \"6/20\", \"6/21\", \"6/22\", \"6/23\", \"6/24\", \"6/25\", \"6/26\", \"6/27\", \"6/28\", \"6/29\", \"6/30\", \"7/1\", \"7/2\", \"7/3\", \"7/4\", \"7/5\", \"7/6\", \"7/7\", \"7/8\", \"7/9\", \"7/10\", \"7/11\", \"7/12\", \"7/13\", \"7/14\", \"7/15\", \"7/16\", \"7/17\", \"7/18\", \"7/19\", \"7/20\", \"7/21\", \"7/22\", \"7/23\", \"7/24\", \"7/25\", \"7/26\", \"7/27\", \"7/28\", \"7/29\", \"7/30\", \"7/31\", \"8/1\", \"8/2\", \"8/3\", \"8/4\", \"8/5\", \"8/6\", \"8/7\", \"8/8\", \"8/9\", \"8/10\", \"8/11\", \"8/12\", \"8/13\", \"8/14\", \"8/15\", \"8/16\", \"8/17\", \"8/18\", \"8/19\", \"8/20\", \"8/21\", \"8/22\", \"8/23\", \"8/24\", \"8/25\", \"8/26\", \"8/27\", \"8/28\"], \"y\": [37, 50, 50, 48, 56, 35, 51, 52, 29, 42, 65, 67, 37, 54, 53, 34, 61, 58, 35, 34, 64, 47, 52, 71, 40, 65, 64, 54, 31, 38, 42, 69, 87, 60, 53, 52, 49, 39, 54, 41, 59, 69, 37, 48, 43, 48, 39, 42, 45, 76, 54, 62, 79, 75, 52, 37, 35, 57, 55, 63, 57, 40, 51, 58, 55, 59, 82, 73, 51, 49, 74, 45, 71, 41, 45, 54, 65, 55, 64, 59, 44, 59, 56, 44, 55, 52, 71, 46, 42, 43, 43, 57, 59, 49, 72, 97, 58, 50, 46, 34, 48, 40, 49, 41, 45, 51, 63, 52, 44, 46, 71, 54, 48, 50, 61, 49, 47, 46, 46, 77, 43, 41, 36, 55, 67, 44, 39, 43, 55, 41, 44, 44, 44, 50, 77, 58, 48, 54, 54, 30, 33, 61, 43, 54, 52, 54, 58, 53, 60, 84, 61, 65, 51, 36, 62, 115, 71, 74, 58, 64, 57, 77, 47, 40, 58, 80, 67, 65, 70, 70, 55, 51, 56, 55, 47, 51, 105, 97, 101, 129, 87, 90, 71, 108, 93, 101, 76, 70, 71, 129, 80, 70, 93, 105, 90, 62, 61, 96, 59, 63, 57, 49, 39, 51, 51, 97, 74, 71, 71, 59, 35, 33, 48, 93, 133, 71, 80, 50, 55, 44, 49, 93, 64, 67, 64, 53, 46, 53, 55, 50, 58, 56, 55, 45, 33, 38, 45, 48, 45, 32]}],\n",
       "                        {\"shapes\": [{\"fillcolor\": \"red\", \"layer\": \"below\", \"line\": {\"width\": 0}, \"opacity\": 0.5, \"type\": \"rect\", \"x0\": \"3/15\", \"x1\": \"6/3\", \"xref\": \"x\", \"y0\": 0, \"y1\": 1, \"yref\": \"paper\"}, {\"fillcolor\": \"lightgreen\", \"layer\": \"below\", \"line\": {\"width\": 0}, \"opacity\": 0.5, \"type\": \"rect\", \"x0\": \"6/24\", \"x1\": \"8/29\", \"xref\": \"x\", \"y0\": 0, \"y1\": 1, \"yref\": \"paper\"}], \"template\": {\"data\": {\"bar\": [{\"error_x\": {\"color\": \"#2a3f5f\"}, \"error_y\": {\"color\": \"#2a3f5f\"}, \"marker\": {\"line\": {\"color\": \"#E5ECF6\", \"width\": 0.5}}, \"type\": \"bar\"}], \"barpolar\": [{\"marker\": {\"line\": {\"color\": \"#E5ECF6\", \"width\": 0.5}}, \"type\": \"barpolar\"}], \"carpet\": [{\"aaxis\": {\"endlinecolor\": \"#2a3f5f\", \"gridcolor\": \"white\", \"linecolor\": \"white\", \"minorgridcolor\": \"white\", \"startlinecolor\": \"#2a3f5f\"}, \"baxis\": {\"endlinecolor\": \"#2a3f5f\", \"gridcolor\": \"white\", \"linecolor\": \"white\", \"minorgridcolor\": \"white\", \"startlinecolor\": \"#2a3f5f\"}, \"type\": \"carpet\"}], \"choropleth\": [{\"colorbar\": {\"outlinewidth\": 0, \"ticks\": \"\"}, \"type\": \"choropleth\"}], \"contour\": [{\"colorbar\": {\"outlinewidth\": 0, \"ticks\": \"\"}, \"colorscale\": [[0.0, \"#0d0887\"], [0.1111111111111111, \"#46039f\"], [0.2222222222222222, \"#7201a8\"], [0.3333333333333333, \"#9c179e\"], [0.4444444444444444, \"#bd3786\"], [0.5555555555555556, \"#d8576b\"], [0.6666666666666666, \"#ed7953\"], [0.7777777777777778, \"#fb9f3a\"], [0.8888888888888888, \"#fdca26\"], [1.0, \"#f0f921\"]], \"type\": \"contour\"}], \"contourcarpet\": [{\"colorbar\": {\"outlinewidth\": 0, \"ticks\": \"\"}, \"type\": \"contourcarpet\"}], \"heatmap\": [{\"colorbar\": {\"outlinewidth\": 0, \"ticks\": \"\"}, \"colorscale\": [[0.0, \"#0d0887\"], [0.1111111111111111, \"#46039f\"], [0.2222222222222222, \"#7201a8\"], [0.3333333333333333, \"#9c179e\"], [0.4444444444444444, \"#bd3786\"], [0.5555555555555556, \"#d8576b\"], [0.6666666666666666, \"#ed7953\"], [0.7777777777777778, \"#fb9f3a\"], [0.8888888888888888, \"#fdca26\"], [1.0, \"#f0f921\"]], \"type\": \"heatmap\"}], \"heatmapgl\": [{\"colorbar\": {\"outlinewidth\": 0, \"ticks\": \"\"}, \"colorscale\": [[0.0, \"#0d0887\"], [0.1111111111111111, \"#46039f\"], [0.2222222222222222, \"#7201a8\"], [0.3333333333333333, \"#9c179e\"], [0.4444444444444444, \"#bd3786\"], [0.5555555555555556, \"#d8576b\"], [0.6666666666666666, \"#ed7953\"], [0.7777777777777778, \"#fb9f3a\"], [0.8888888888888888, \"#fdca26\"], [1.0, \"#f0f921\"]], \"type\": \"heatmapgl\"}], \"histogram\": [{\"marker\": {\"colorbar\": {\"outlinewidth\": 0, \"ticks\": \"\"}}, \"type\": \"histogram\"}], \"histogram2d\": [{\"colorbar\": {\"outlinewidth\": 0, \"ticks\": \"\"}, \"colorscale\": [[0.0, \"#0d0887\"], [0.1111111111111111, \"#46039f\"], [0.2222222222222222, \"#7201a8\"], [0.3333333333333333, \"#9c179e\"], [0.4444444444444444, \"#bd3786\"], [0.5555555555555556, \"#d8576b\"], [0.6666666666666666, \"#ed7953\"], [0.7777777777777778, \"#fb9f3a\"], [0.8888888888888888, \"#fdca26\"], [1.0, \"#f0f921\"]], \"type\": \"histogram2d\"}], \"histogram2dcontour\": [{\"colorbar\": {\"outlinewidth\": 0, \"ticks\": \"\"}, \"colorscale\": [[0.0, \"#0d0887\"], [0.1111111111111111, \"#46039f\"], [0.2222222222222222, \"#7201a8\"], [0.3333333333333333, \"#9c179e\"], [0.4444444444444444, \"#bd3786\"], [0.5555555555555556, \"#d8576b\"], [0.6666666666666666, \"#ed7953\"], [0.7777777777777778, \"#fb9f3a\"], [0.8888888888888888, \"#fdca26\"], [1.0, \"#f0f921\"]], \"type\": \"histogram2dcontour\"}], \"mesh3d\": [{\"colorbar\": {\"outlinewidth\": 0, \"ticks\": \"\"}, \"type\": \"mesh3d\"}], \"parcoords\": [{\"line\": {\"colorbar\": {\"outlinewidth\": 0, \"ticks\": \"\"}}, \"type\": \"parcoords\"}], \"pie\": [{\"automargin\": true, \"type\": \"pie\"}], \"scatter\": [{\"marker\": {\"colorbar\": {\"outlinewidth\": 0, \"ticks\": \"\"}}, \"type\": \"scatter\"}], \"scatter3d\": [{\"line\": {\"colorbar\": {\"outlinewidth\": 0, \"ticks\": \"\"}}, \"marker\": {\"colorbar\": {\"outlinewidth\": 0, \"ticks\": \"\"}}, \"type\": \"scatter3d\"}], \"scattercarpet\": [{\"marker\": {\"colorbar\": {\"outlinewidth\": 0, \"ticks\": \"\"}}, \"type\": \"scattercarpet\"}], \"scattergeo\": [{\"marker\": {\"colorbar\": {\"outlinewidth\": 0, \"ticks\": \"\"}}, \"type\": \"scattergeo\"}], \"scattergl\": [{\"marker\": {\"colorbar\": {\"outlinewidth\": 0, \"ticks\": \"\"}}, \"type\": \"scattergl\"}], \"scattermapbox\": [{\"marker\": {\"colorbar\": {\"outlinewidth\": 0, \"ticks\": \"\"}}, \"type\": \"scattermapbox\"}], \"scatterpolar\": [{\"marker\": {\"colorbar\": {\"outlinewidth\": 0, \"ticks\": \"\"}}, \"type\": \"scatterpolar\"}], \"scatterpolargl\": [{\"marker\": {\"colorbar\": {\"outlinewidth\": 0, \"ticks\": \"\"}}, \"type\": \"scatterpolargl\"}], \"scatterternary\": [{\"marker\": {\"colorbar\": {\"outlinewidth\": 0, \"ticks\": \"\"}}, \"type\": \"scatterternary\"}], \"surface\": [{\"colorbar\": {\"outlinewidth\": 0, \"ticks\": \"\"}, \"colorscale\": [[0.0, \"#0d0887\"], [0.1111111111111111, \"#46039f\"], [0.2222222222222222, \"#7201a8\"], [0.3333333333333333, \"#9c179e\"], [0.4444444444444444, \"#bd3786\"], [0.5555555555555556, \"#d8576b\"], [0.6666666666666666, \"#ed7953\"], [0.7777777777777778, \"#fb9f3a\"], [0.8888888888888888, \"#fdca26\"], [1.0, \"#f0f921\"]], \"type\": \"surface\"}], \"table\": [{\"cells\": {\"fill\": {\"color\": \"#EBF0F8\"}, \"line\": {\"color\": \"white\"}}, \"header\": {\"fill\": {\"color\": \"#C8D4E3\"}, \"line\": {\"color\": \"white\"}}, \"type\": \"table\"}]}, \"layout\": {\"annotationdefaults\": {\"arrowcolor\": \"#2a3f5f\", \"arrowhead\": 0, \"arrowwidth\": 1}, \"coloraxis\": {\"colorbar\": {\"outlinewidth\": 0, \"ticks\": \"\"}}, \"colorscale\": {\"diverging\": [[0, \"#8e0152\"], [0.1, \"#c51b7d\"], [0.2, \"#de77ae\"], [0.3, \"#f1b6da\"], [0.4, \"#fde0ef\"], [0.5, \"#f7f7f7\"], [0.6, \"#e6f5d0\"], [0.7, \"#b8e186\"], [0.8, \"#7fbc41\"], [0.9, \"#4d9221\"], [1, \"#276419\"]], \"sequential\": [[0.0, \"#0d0887\"], [0.1111111111111111, \"#46039f\"], [0.2222222222222222, \"#7201a8\"], [0.3333333333333333, \"#9c179e\"], [0.4444444444444444, \"#bd3786\"], [0.5555555555555556, \"#d8576b\"], [0.6666666666666666, \"#ed7953\"], [0.7777777777777778, \"#fb9f3a\"], [0.8888888888888888, \"#fdca26\"], [1.0, \"#f0f921\"]], \"sequentialminus\": [[0.0, \"#0d0887\"], [0.1111111111111111, \"#46039f\"], [0.2222222222222222, \"#7201a8\"], [0.3333333333333333, \"#9c179e\"], [0.4444444444444444, \"#bd3786\"], [0.5555555555555556, \"#d8576b\"], [0.6666666666666666, \"#ed7953\"], [0.7777777777777778, \"#fb9f3a\"], [0.8888888888888888, \"#fdca26\"], [1.0, \"#f0f921\"]]}, \"colorway\": [\"#636efa\", \"#EF553B\", \"#00cc96\", \"#ab63fa\", \"#FFA15A\", \"#19d3f3\", \"#FF6692\", \"#B6E880\", \"#FF97FF\", \"#FECB52\"], \"font\": {\"color\": \"#2a3f5f\"}, \"geo\": {\"bgcolor\": \"white\", \"lakecolor\": \"white\", \"landcolor\": \"#E5ECF6\", \"showlakes\": true, \"showland\": true, \"subunitcolor\": \"white\"}, \"hoverlabel\": {\"align\": \"left\"}, \"hovermode\": \"closest\", \"mapbox\": {\"style\": \"light\"}, \"paper_bgcolor\": \"white\", \"plot_bgcolor\": \"#E5ECF6\", \"polar\": {\"angularaxis\": {\"gridcolor\": \"white\", \"linecolor\": \"white\", \"ticks\": \"\"}, \"bgcolor\": \"#E5ECF6\", \"radialaxis\": {\"gridcolor\": \"white\", \"linecolor\": \"white\", \"ticks\": \"\"}}, \"scene\": {\"xaxis\": {\"backgroundcolor\": \"#E5ECF6\", \"gridcolor\": \"white\", \"gridwidth\": 2, \"linecolor\": \"white\", \"showbackground\": true, \"ticks\": \"\", \"zerolinecolor\": \"white\"}, \"yaxis\": {\"backgroundcolor\": \"#E5ECF6\", \"gridcolor\": \"white\", \"gridwidth\": 2, \"linecolor\": \"white\", \"showbackground\": true, \"ticks\": \"\", \"zerolinecolor\": \"white\"}, \"zaxis\": {\"backgroundcolor\": \"#E5ECF6\", \"gridcolor\": \"white\", \"gridwidth\": 2, \"linecolor\": \"white\", \"showbackground\": true, \"ticks\": \"\", \"zerolinecolor\": \"white\"}}, \"shapedefaults\": {\"line\": {\"color\": \"#2a3f5f\"}}, \"ternary\": {\"aaxis\": {\"gridcolor\": \"white\", \"linecolor\": \"white\", \"ticks\": \"\"}, \"baxis\": {\"gridcolor\": \"white\", \"linecolor\": \"white\", \"ticks\": \"\"}, \"bgcolor\": \"#E5ECF6\", \"caxis\": {\"gridcolor\": \"white\", \"linecolor\": \"white\", \"ticks\": \"\"}}, \"title\": {\"x\": 0.05}, \"xaxis\": {\"automargin\": true, \"gridcolor\": \"white\", \"linecolor\": \"white\", \"ticks\": \"\", \"title\": {\"standoff\": 15}, \"zerolinecolor\": \"white\", \"zerolinewidth\": 2}, \"yaxis\": {\"automargin\": true, \"gridcolor\": \"white\", \"linecolor\": \"white\", \"ticks\": \"\", \"title\": {\"standoff\": 15}, \"zerolinecolor\": \"white\", \"zerolinewidth\": 2}}}},\n",
       "                        {\"responsive\": true}\n",
       "                    ).then(function(){\n",
       "                            \n",
       "var gd = document.getElementById('4fdf7213-159b-4b27-98f5-fdfda4f4e753');\n",
       "var x = new MutationObserver(function (mutations, observer) {{\n",
       "        var display = window.getComputedStyle(gd).display;\n",
       "        if (!display || display === 'none') {{\n",
       "            console.log([gd, 'removed!']);\n",
       "            Plotly.purge(gd);\n",
       "            observer.disconnect();\n",
       "        }}\n",
       "}});\n",
       "\n",
       "// Listen for the removal of the full notebook cells\n",
       "var notebookContainer = gd.closest('#notebook-container');\n",
       "if (notebookContainer) {{\n",
       "    x.observe(notebookContainer, {childList: true});\n",
       "}}\n",
       "\n",
       "// Listen for the clearing of the current output cell\n",
       "var outputEl = gd.closest('.output');\n",
       "if (outputEl) {{\n",
       "    x.observe(outputEl, {childList: true});\n",
       "}}\n",
       "\n",
       "                        })\n",
       "                };\n",
       "                });\n",
       "            </script>\n",
       "        </div>"
      ]
     },
     "metadata": {},
     "output_type": "display_data"
    }
   ],
   "source": [
    "import plotly.graph_objects as go\n",
    "\n",
    "fig = go.Figure()\n",
    "fig.add_trace(go.Scatter( x=list(df_2020[\"month\"]), y=list(df_2020[\" AQI Value\"]),mode=\"lines\",name=\"2020\"))\n",
    "fig.add_trace(go.Scatter( x=list(df_2019[\"month\"]), y=list(df_2019[\" AQI Value\"]),mode=\"lines\",name=\"2019\"))\n",
    "\n",
    "fig.update_layout(\n",
    "    shapes=[\n",
    "        # Phase 1 & 2\n",
    "        dict(\n",
    "            type=\"rect\",\n",
    "            # x-reference is assigned to the x-values\n",
    "            xref=\"x\",\n",
    "            # y-reference is assigned to the plot paper [0,1]\n",
    "            yref=\"paper\",\n",
    "            x0=\"3/15\",\n",
    "            y0=0,\n",
    "            x1=\"6/3\",\n",
    "            y1=1,\n",
    "            fillcolor=\"red\",\n",
    "            opacity=0.5,\n",
    "            layer=\"below\",\n",
    "            line_width=0,\n",
    "        ),\n",
    "        # Phase 3\n",
    "        dict(\n",
    "            type=\"rect\",\n",
    "            # x-reference is assigned to the x-values\n",
    "            xref=\"x\",\n",
    "            # y-reference is assigned to the plot paper [0,1]\n",
    "            yref=\"paper\",\n",
    "            x0=\"6/3\",\n",
    "            y0=0,\n",
    "            x1=\"6/24\",\n",
    "            y1=1,\n",
    "            fillcolor=\"#FFFFE0\",\n",
    "            opacity=0.5,\n",
    "            layer=\"below\",\n",
    "            line_width=0,\n",
    "        ),\n",
    "         # Phase 4\n",
    "        dict(\n",
    "            type=\"rect\",\n",
    "            # x-reference is assigned to the x-values\n",
    "            xref=\"x\",\n",
    "            # y-reference is assigned to the plot paper [0,1]\n",
    "            yref=\"paper\",\n",
    "            x0=\"6/24\",\n",
    "            y0=0,\n",
    "            x1=\"8/29\",\n",
    "            y1=1,\n",
    "            fillcolor=\"lightgreen\",\n",
    "            opacity=0.5,\n",
    "            layer=\"below\",\n",
    "            line_width=0,\n",
    "        )\n",
    "    ]\n",
    ")\n",
    "# https://www.chicago.gov/city/en/sites/covid-19/home/reopening-chicago.html\n",
    "fig.show()\n"
   ]
  },
  {
   "cell_type": "code",
   "execution_count": null,
   "metadata": {},
   "outputs": [],
   "source": []
  }
 ],
 "metadata": {
  "kernelspec": {
   "display_name": "Python 3",
   "language": "python",
   "name": "python3"
  },
  "language_info": {
   "codemirror_mode": {
    "name": "ipython",
    "version": 3
   },
   "file_extension": ".py",
   "mimetype": "text/x-python",
   "name": "python",
   "nbconvert_exporter": "python",
   "pygments_lexer": "ipython3",
   "version": "3.7.4"
  }
 },
 "nbformat": 4,
 "nbformat_minor": 2
}
